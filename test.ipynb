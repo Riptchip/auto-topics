{
    "cells": [
        {
            "cell_type": "code",
            "execution_count": 129,
            "metadata": {},
            "outputs": [],
            "source": [
                "from matplotlib.pyplot import imshow\n",
                "import numpy as np\n",
                "from PIL import ImageFont, Image, ImageDraw"
            ]
        },
        {
            "cell_type": "code",
            "execution_count": 130,
            "metadata": {},
            "outputs": [],
            "source": [
                "fontWidthScale = 0.8\n",
                "fontHeightScale = 1.1\n",
                "lineSpacing = 79\n",
                "kerning = 0.77"
            ]
        },
        {
            "cell_type": "code",
            "execution_count": 131,
            "metadata": {},
            "outputs": [],
            "source": [
                "img = Image.open('tp.jpg')\n",
                "originWidth = img.width\n",
                "originHeight = img.height\n",
                "img = img.resize((int(img.width * fontHeightScale), int(img.height * fontWidthScale)))"
            ]
        },
        {
            "cell_type": "code",
            "execution_count": 132,
            "metadata": {},
            "outputs": [],
            "source": [
                "def show(imgv):\n",
                "    imshow(np.array(imgv))"
            ]
        },
        {
            "cell_type": "code",
            "execution_count": 133,
            "metadata": {},
            "outputs": [],
            "source": [
                "fontB = ImageFont.truetype('Montserrat-Bold.ttf', size=74)\n",
                "fontL = ImageFont.truetype('Montserrat-ExtraLight.ttf', size=35)\n"
            ]
        },
        {
            "cell_type": "code",
            "execution_count": 134,
            "metadata": {},
            "outputs": [],
            "source": [
                "draw = ImageDraw.Draw(img)"
            ]
        },
        {
            "cell_type": "code",
            "execution_count": 135,
            "metadata": {},
            "outputs": [],
            "source": [
                "def drawText(drawer, xy, text, font, spacing):\n",
                "    drawer.text(xy, text, font=font, spacing=spacing)\n",
                "    return drawer.textbbox(xy, text, font=font, spacing=spacing)"
            ]
        },
        {
            "cell_type": "code",
            "execution_count": 136,
            "metadata": {},
            "outputs": [],
            "source": [
                "line1 = drawText(draw, (105, 50), \"DOMINGO DO LIVRAMENTO\", font=fontB, spacing=int(fontB.size * kerning))\n",
                "line2 = drawText(draw, (105, line1[1] + lineSpacing), \"MATEUS 17 : 24 - 27\", font=fontL, spacing=int(fontL.size * kerning))"
            ]
        },
        {
            "cell_type": "code",
            "execution_count": 137,
            "metadata": {},
            "outputs": [],
            "source": [
                "img = img.resize((originWidth, originHeight))"
            ]
        },
        {
            "cell_type": "code",
            "execution_count": 1,
            "metadata": {},
            "outputs": [
                {
                    "ename": "NameError",
                    "evalue": "name 'show' is not defined",
                    "output_type": "error",
                    "traceback": [
                        "\u001b[1;31m---------------------------------------------------------------------------\u001b[0m",
                        "\u001b[1;31mNameError\u001b[0m                                 Traceback (most recent call last)",
                        "\u001b[1;32m~\\AppData\\Local\\Temp/ipykernel_8788/664116091.py\u001b[0m in \u001b[0;36m<module>\u001b[1;34m\u001b[0m\n\u001b[1;32m----> 1\u001b[1;33m \u001b[0mshow\u001b[0m\u001b[1;33m(\u001b[0m\u001b[0mimg\u001b[0m\u001b[1;33m)\u001b[0m\u001b[1;33m\u001b[0m\u001b[1;33m\u001b[0m\u001b[0m\n\u001b[0m",
                        "\u001b[1;31mNameError\u001b[0m: name 'show' is not defined"
                    ]
                }
            ],
            "source": [
                "show(img)"
            ]
        }
    ],
    "metadata": {
        "kernelspec": {
            "display_name": "Python 3",
            "language": "python",
            "name": "python3"
        },
        "language_info": {
            "codemirror_mode": {
                "name": "ipython",
                "version": 3
            },
            "file_extension": ".py",
            "mimetype": "text/x-python",
            "name": "python",
            "nbconvert_exporter": "python",
            "pygments_lexer": "ipython3",
            "version": "3.8.9"
        },
        "orig_nbformat": 4,
        "vscode": {
            "interpreter": {
                "hash": "73a75ea109158a2d84971ce48cb4564b23b98d042ab3daf1c1f7c2d610837661"
            }
        }
    },
    "nbformat": 4,
    "nbformat_minor": 2
}
